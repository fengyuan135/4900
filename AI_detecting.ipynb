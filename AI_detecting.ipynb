{
 "cells": [
  {
   "cell_type": "code",
   "execution_count": 36,
   "metadata": {},
   "outputs": [],
   "source": [
    "import matplotlib.pyplot as plt\n",
    "%matplotlib inline\n",
    "import numpy as np\n",
    "import pandas as pd\n",
    "from sklearn import datasets, linear_model"
   ]
  },
  {
   "cell_type": "code",
   "execution_count": 37,
   "metadata": {},
   "outputs": [],
   "source": [
    "data = pd.read_csv('/home/derrick/Documents/4900/dataset.csv')"
   ]
  },
  {
   "cell_type": "code",
   "execution_count": 38,
   "metadata": {},
   "outputs": [
    {
     "data": {
      "text/html": [
       "<div>\n",
       "<style scoped>\n",
       "    .dataframe tbody tr th:only-of-type {\n",
       "        vertical-align: middle;\n",
       "    }\n",
       "\n",
       "    .dataframe tbody tr th {\n",
       "        vertical-align: top;\n",
       "    }\n",
       "\n",
       "    .dataframe thead th {\n",
       "        text-align: right;\n",
       "    }\n",
       "</style>\n",
       "<table border=\"1\" class=\"dataframe\">\n",
       "  <thead>\n",
       "    <tr style=\"text-align: right;\">\n",
       "      <th></th>\n",
       "      <th>url</th>\n",
       "      <th>ip_address</th>\n",
       "      <th>Country</th>\n",
       "      <th>server</th>\n",
       "      <th>ptr</th>\n",
       "      <th>asn</th>\n",
       "      <th>asnname</th>\n",
       "      <th>domain</th>\n",
       "      <th>malicious</th>\n",
       "      <th>ads_blocked</th>\n",
       "      <th>...</th>\n",
       "      <th>open_ports_number</th>\n",
       "      <th>referers</th>\n",
       "      <th>GET_request_percentage</th>\n",
       "      <th>POST_request_percentage</th>\n",
       "      <th>HEAD_request_percentage</th>\n",
       "      <th>PUT_request_percentage</th>\n",
       "      <th>DELETE_request_percentage</th>\n",
       "      <th>CONNECT_request_percentage</th>\n",
       "      <th>OPTIONS_request_percentage</th>\n",
       "      <th>Phishing</th>\n",
       "    </tr>\n",
       "  </thead>\n",
       "  <tbody>\n",
       "    <tr>\n",
       "      <th>0</th>\n",
       "      <td>https://shahwebsetters.com/live/docusign/</td>\n",
       "      <td>162.241.24.137</td>\n",
       "      <td>US</td>\n",
       "      <td>Apache</td>\n",
       "      <td>box5875.bluehost.com</td>\n",
       "      <td>AS46606</td>\n",
       "      <td>UNIFIEDLAYER-AS-1, US</td>\n",
       "      <td>shahwebsetters.com</td>\n",
       "      <td>0</td>\n",
       "      <td>0</td>\n",
       "      <td>...</td>\n",
       "      <td>14</td>\n",
       "      <td>7</td>\n",
       "      <td>1.000000</td>\n",
       "      <td>0.000000</td>\n",
       "      <td>0.0</td>\n",
       "      <td>0.0</td>\n",
       "      <td>0.0</td>\n",
       "      <td>0.0</td>\n",
       "      <td>0.0</td>\n",
       "      <td>1</td>\n",
       "    </tr>\n",
       "    <tr>\n",
       "      <th>1</th>\n",
       "      <td>https://digitalspirit.pt/wp/ZS/?59905&amp;amp;emzo...</td>\n",
       "      <td>94.46.165.105</td>\n",
       "      <td>PT</td>\n",
       "      <td>Apache</td>\n",
       "      <td>vm01.bikesusadas.pt</td>\n",
       "      <td>AS24768</td>\n",
       "      <td>ALMOUROLTEC, PT</td>\n",
       "      <td>digitalspirit.pt</td>\n",
       "      <td>0</td>\n",
       "      <td>0</td>\n",
       "      <td>...</td>\n",
       "      <td>16</td>\n",
       "      <td>4</td>\n",
       "      <td>0.985915</td>\n",
       "      <td>0.014085</td>\n",
       "      <td>0.0</td>\n",
       "      <td>0.0</td>\n",
       "      <td>0.0</td>\n",
       "      <td>0.0</td>\n",
       "      <td>0.0</td>\n",
       "      <td>1</td>\n",
       "    </tr>\n",
       "    <tr>\n",
       "      <th>2</th>\n",
       "      <td>https://0-105.com/Core/app/ellID/H/Signin</td>\n",
       "      <td>2001:8d8:100f:f000::2c3</td>\n",
       "      <td>DE</td>\n",
       "      <td>Apache</td>\n",
       "      <td>NaN</td>\n",
       "      <td>AS8560</td>\n",
       "      <td>ONEANDONE-AS Brauerstrasse 48, DE</td>\n",
       "      <td>0-105.com</td>\n",
       "      <td>0</td>\n",
       "      <td>0</td>\n",
       "      <td>...</td>\n",
       "      <td>2</td>\n",
       "      <td>7</td>\n",
       "      <td>1.000000</td>\n",
       "      <td>0.000000</td>\n",
       "      <td>0.0</td>\n",
       "      <td>0.0</td>\n",
       "      <td>0.0</td>\n",
       "      <td>0.0</td>\n",
       "      <td>0.0</td>\n",
       "      <td>1</td>\n",
       "    </tr>\n",
       "    <tr>\n",
       "      <th>3</th>\n",
       "      <td>https://bigdataprofile.com/wp-includes/wells/w...</td>\n",
       "      <td>104.45.95.61</td>\n",
       "      <td>IE</td>\n",
       "      <td>Microsoft-IIS/10.0</td>\n",
       "      <td>NaN</td>\n",
       "      <td>AS8075</td>\n",
       "      <td>MICROSOFT-CORP-MSN-AS-BLOCK, US</td>\n",
       "      <td>bigdataprofile.com</td>\n",
       "      <td>0</td>\n",
       "      <td>0</td>\n",
       "      <td>...</td>\n",
       "      <td>2</td>\n",
       "      <td>0</td>\n",
       "      <td>1.000000</td>\n",
       "      <td>0.000000</td>\n",
       "      <td>0.0</td>\n",
       "      <td>0.0</td>\n",
       "      <td>0.0</td>\n",
       "      <td>0.0</td>\n",
       "      <td>0.0</td>\n",
       "      <td>1</td>\n",
       "    </tr>\n",
       "    <tr>\n",
       "      <th>4</th>\n",
       "      <td>https://santababa.in/wp-content/upgrade/745155...</td>\n",
       "      <td>63.250.38.10</td>\n",
       "      <td>US</td>\n",
       "      <td>Apache</td>\n",
       "      <td>premium90-5.web-hosting.com</td>\n",
       "      <td>AS22612</td>\n",
       "      <td>NAMECHEAP-NET, US</td>\n",
       "      <td>santababa.in</td>\n",
       "      <td>0</td>\n",
       "      <td>0</td>\n",
       "      <td>...</td>\n",
       "      <td>19</td>\n",
       "      <td>3</td>\n",
       "      <td>0.978723</td>\n",
       "      <td>0.021277</td>\n",
       "      <td>0.0</td>\n",
       "      <td>0.0</td>\n",
       "      <td>0.0</td>\n",
       "      <td>0.0</td>\n",
       "      <td>0.0</td>\n",
       "      <td>1</td>\n",
       "    </tr>\n",
       "  </tbody>\n",
       "</table>\n",
       "<p>5 rows × 49 columns</p>\n",
       "</div>"
      ],
      "text/plain": [
       "                                                 url               ip_address  \\\n",
       "0          https://shahwebsetters.com/live/docusign/           162.241.24.137   \n",
       "1  https://digitalspirit.pt/wp/ZS/?59905&amp;emzo...            94.46.165.105   \n",
       "2          https://0-105.com/Core/app/ellID/H/Signin  2001:8d8:100f:f000::2c3   \n",
       "3  https://bigdataprofile.com/wp-includes/wells/w...             104.45.95.61   \n",
       "4  https://santababa.in/wp-content/upgrade/745155...             63.250.38.10   \n",
       "\n",
       "  Country              server                          ptr      asn  \\\n",
       "0      US              Apache         box5875.bluehost.com  AS46606   \n",
       "1      PT              Apache          vm01.bikesusadas.pt  AS24768   \n",
       "2      DE              Apache                          NaN   AS8560   \n",
       "3      IE  Microsoft-IIS/10.0                          NaN   AS8075   \n",
       "4      US              Apache  premium90-5.web-hosting.com  AS22612   \n",
       "\n",
       "                             asnname              domain  malicious  \\\n",
       "0              UNIFIEDLAYER-AS-1, US  shahwebsetters.com          0   \n",
       "1                    ALMOUROLTEC, PT    digitalspirit.pt          0   \n",
       "2  ONEANDONE-AS Brauerstrasse 48, DE           0-105.com          0   \n",
       "3    MICROSOFT-CORP-MSN-AS-BLOCK, US  bigdataprofile.com          0   \n",
       "4                  NAMECHEAP-NET, US        santababa.in          0   \n",
       "\n",
       "   ads_blocked  ...  open_ports_number  referers  GET_request_percentage  \\\n",
       "0            0  ...                 14         7                1.000000   \n",
       "1            0  ...                 16         4                0.985915   \n",
       "2            0  ...                  2         7                1.000000   \n",
       "3            0  ...                  2         0                1.000000   \n",
       "4            0  ...                 19         3                0.978723   \n",
       "\n",
       "   POST_request_percentage  HEAD_request_percentage  PUT_request_percentage  \\\n",
       "0                 0.000000                      0.0                     0.0   \n",
       "1                 0.014085                      0.0                     0.0   \n",
       "2                 0.000000                      0.0                     0.0   \n",
       "3                 0.000000                      0.0                     0.0   \n",
       "4                 0.021277                      0.0                     0.0   \n",
       "\n",
       "  DELETE_request_percentage CONNECT_request_percentage  \\\n",
       "0                       0.0                        0.0   \n",
       "1                       0.0                        0.0   \n",
       "2                       0.0                        0.0   \n",
       "3                       0.0                        0.0   \n",
       "4                       0.0                        0.0   \n",
       "\n",
       "  OPTIONS_request_percentage  Phishing  \n",
       "0                        0.0         1  \n",
       "1                        0.0         1  \n",
       "2                        0.0         1  \n",
       "3                        0.0         1  \n",
       "4                        0.0         1  \n",
       "\n",
       "[5 rows x 49 columns]"
      ]
     },
     "execution_count": 38,
     "metadata": {},
     "output_type": "execute_result"
    }
   ],
   "source": [
    "data.head()"
   ]
  },
  {
   "cell_type": "code",
   "execution_count": 39,
   "metadata": {},
   "outputs": [
    {
     "data": {
      "text/plain": [
       "(1028, 49)"
      ]
     },
     "execution_count": 39,
     "metadata": {},
     "output_type": "execute_result"
    }
   ],
   "source": [
    "data.shape"
   ]
  },
  {
   "cell_type": "code",
   "execution_count": 40,
   "metadata": {},
   "outputs": [],
   "source": [
    "data['Country'] = pd.factorize(data['Country'])[0].astype(np.uint16)\n",
    "data['server'] = pd.factorize(data['server'])[0].astype(np.uint16)\n",
    "data['asn'] = pd.factorize(data['asn'])[0].astype(np.uint16)\n",
    "data['protocol'] = pd.factorize(data['protocol'])[0].astype(np.uint16)\n",
    "data['MX'] = pd.factorize(data['MX'])[0].astype(np.uint16)\n",
    "data['NS'] = pd.factorize(data['NS'])[0].astype(np.uint16)\n",
    "data['SOA'] = pd.factorize(data['SOA'])[0].astype(np.uint16)"
   ]
  },
  {
   "cell_type": "code",
   "execution_count": 41,
   "metadata": {},
   "outputs": [],
   "source": [
    "X = data[['Country', 'server', 'asn', 'malicious', 'ads_blocked', 'totalLinks', 'urlScore' ,'secureRequests', 'securePercentage', 'IPv6Percentage', 'certificate', 'domain_age', 'contain_prefix', 'url_length', 'dot_number', 'validatity_period_time_stamp', 'is_redirect', 'iframe_number', 'mailtos_number', 'a_tag_number', 'domain_in_url', 'protocol', 'MX', 'NS', 'SOA', 'right_disable', 'hover_change_status_bar', 'indexed_by_google', 'webpage_rank', 'a_tag_url_number_percentage', 'meta_link_percentage', 'contain_popup_window', 'open_ports_number', 'referers', 'GET_request_percentage', 'POST_request_percentage', 'HEAD_request_percentage', 'PUT_request_percentage', 'DELETE_request_percentage', 'CONNECT_request_percentage', 'OPTIONS_request_percentage']]"
   ]
  },
  {
   "cell_type": "code",
   "execution_count": 42,
   "metadata": {},
   "outputs": [
    {
     "data": {
      "text/html": [
       "<div>\n",
       "<style scoped>\n",
       "    .dataframe tbody tr th:only-of-type {\n",
       "        vertical-align: middle;\n",
       "    }\n",
       "\n",
       "    .dataframe tbody tr th {\n",
       "        vertical-align: top;\n",
       "    }\n",
       "\n",
       "    .dataframe thead th {\n",
       "        text-align: right;\n",
       "    }\n",
       "</style>\n",
       "<table border=\"1\" class=\"dataframe\">\n",
       "  <thead>\n",
       "    <tr style=\"text-align: right;\">\n",
       "      <th></th>\n",
       "      <th>Country</th>\n",
       "      <th>server</th>\n",
       "      <th>asn</th>\n",
       "      <th>malicious</th>\n",
       "      <th>ads_blocked</th>\n",
       "      <th>totalLinks</th>\n",
       "      <th>urlScore</th>\n",
       "      <th>secureRequests</th>\n",
       "      <th>securePercentage</th>\n",
       "      <th>IPv6Percentage</th>\n",
       "      <th>...</th>\n",
       "      <th>contain_popup_window</th>\n",
       "      <th>open_ports_number</th>\n",
       "      <th>referers</th>\n",
       "      <th>GET_request_percentage</th>\n",
       "      <th>POST_request_percentage</th>\n",
       "      <th>HEAD_request_percentage</th>\n",
       "      <th>PUT_request_percentage</th>\n",
       "      <th>DELETE_request_percentage</th>\n",
       "      <th>CONNECT_request_percentage</th>\n",
       "      <th>OPTIONS_request_percentage</th>\n",
       "    </tr>\n",
       "  </thead>\n",
       "  <tbody>\n",
       "    <tr>\n",
       "      <th>0</th>\n",
       "      <td>0</td>\n",
       "      <td>0</td>\n",
       "      <td>0</td>\n",
       "      <td>0</td>\n",
       "      <td>0</td>\n",
       "      <td>3</td>\n",
       "      <td>0</td>\n",
       "      <td>56</td>\n",
       "      <td>88</td>\n",
       "      <td>75</td>\n",
       "      <td>...</td>\n",
       "      <td>0</td>\n",
       "      <td>14</td>\n",
       "      <td>7</td>\n",
       "      <td>1.000000</td>\n",
       "      <td>0.000000</td>\n",
       "      <td>0.0</td>\n",
       "      <td>0.0</td>\n",
       "      <td>0.0</td>\n",
       "      <td>0.0</td>\n",
       "      <td>0.0</td>\n",
       "    </tr>\n",
       "    <tr>\n",
       "      <th>1</th>\n",
       "      <td>1</td>\n",
       "      <td>0</td>\n",
       "      <td>1</td>\n",
       "      <td>0</td>\n",
       "      <td>0</td>\n",
       "      <td>4</td>\n",
       "      <td>0</td>\n",
       "      <td>71</td>\n",
       "      <td>100</td>\n",
       "      <td>90</td>\n",
       "      <td>...</td>\n",
       "      <td>0</td>\n",
       "      <td>16</td>\n",
       "      <td>4</td>\n",
       "      <td>0.985915</td>\n",
       "      <td>0.014085</td>\n",
       "      <td>0.0</td>\n",
       "      <td>0.0</td>\n",
       "      <td>0.0</td>\n",
       "      <td>0.0</td>\n",
       "      <td>0.0</td>\n",
       "    </tr>\n",
       "    <tr>\n",
       "      <th>2</th>\n",
       "      <td>2</td>\n",
       "      <td>0</td>\n",
       "      <td>2</td>\n",
       "      <td>0</td>\n",
       "      <td>0</td>\n",
       "      <td>6</td>\n",
       "      <td>0</td>\n",
       "      <td>47</td>\n",
       "      <td>100</td>\n",
       "      <td>83</td>\n",
       "      <td>...</td>\n",
       "      <td>0</td>\n",
       "      <td>2</td>\n",
       "      <td>7</td>\n",
       "      <td>1.000000</td>\n",
       "      <td>0.000000</td>\n",
       "      <td>0.0</td>\n",
       "      <td>0.0</td>\n",
       "      <td>0.0</td>\n",
       "      <td>0.0</td>\n",
       "      <td>0.0</td>\n",
       "    </tr>\n",
       "    <tr>\n",
       "      <th>3</th>\n",
       "      <td>3</td>\n",
       "      <td>1</td>\n",
       "      <td>3</td>\n",
       "      <td>0</td>\n",
       "      <td>0</td>\n",
       "      <td>2</td>\n",
       "      <td>0</td>\n",
       "      <td>1</td>\n",
       "      <td>100</td>\n",
       "      <td>0</td>\n",
       "      <td>...</td>\n",
       "      <td>0</td>\n",
       "      <td>2</td>\n",
       "      <td>0</td>\n",
       "      <td>1.000000</td>\n",
       "      <td>0.000000</td>\n",
       "      <td>0.0</td>\n",
       "      <td>0.0</td>\n",
       "      <td>0.0</td>\n",
       "      <td>0.0</td>\n",
       "      <td>0.0</td>\n",
       "    </tr>\n",
       "    <tr>\n",
       "      <th>4</th>\n",
       "      <td>0</td>\n",
       "      <td>0</td>\n",
       "      <td>4</td>\n",
       "      <td>0</td>\n",
       "      <td>0</td>\n",
       "      <td>6</td>\n",
       "      <td>0</td>\n",
       "      <td>47</td>\n",
       "      <td>100</td>\n",
       "      <td>67</td>\n",
       "      <td>...</td>\n",
       "      <td>0</td>\n",
       "      <td>19</td>\n",
       "      <td>3</td>\n",
       "      <td>0.978723</td>\n",
       "      <td>0.021277</td>\n",
       "      <td>0.0</td>\n",
       "      <td>0.0</td>\n",
       "      <td>0.0</td>\n",
       "      <td>0.0</td>\n",
       "      <td>0.0</td>\n",
       "    </tr>\n",
       "  </tbody>\n",
       "</table>\n",
       "<p>5 rows × 41 columns</p>\n",
       "</div>"
      ],
      "text/plain": [
       "   Country  server  asn  malicious  ads_blocked  totalLinks  urlScore  \\\n",
       "0        0       0    0          0            0           3         0   \n",
       "1        1       0    1          0            0           4         0   \n",
       "2        2       0    2          0            0           6         0   \n",
       "3        3       1    3          0            0           2         0   \n",
       "4        0       0    4          0            0           6         0   \n",
       "\n",
       "   secureRequests  securePercentage  IPv6Percentage  ...  \\\n",
       "0              56                88              75  ...   \n",
       "1              71               100              90  ...   \n",
       "2              47               100              83  ...   \n",
       "3               1               100               0  ...   \n",
       "4              47               100              67  ...   \n",
       "\n",
       "   contain_popup_window  open_ports_number  referers  GET_request_percentage  \\\n",
       "0                     0                 14         7                1.000000   \n",
       "1                     0                 16         4                0.985915   \n",
       "2                     0                  2         7                1.000000   \n",
       "3                     0                  2         0                1.000000   \n",
       "4                     0                 19         3                0.978723   \n",
       "\n",
       "   POST_request_percentage  HEAD_request_percentage  PUT_request_percentage  \\\n",
       "0                 0.000000                      0.0                     0.0   \n",
       "1                 0.014085                      0.0                     0.0   \n",
       "2                 0.000000                      0.0                     0.0   \n",
       "3                 0.000000                      0.0                     0.0   \n",
       "4                 0.021277                      0.0                     0.0   \n",
       "\n",
       "   DELETE_request_percentage  CONNECT_request_percentage  \\\n",
       "0                        0.0                         0.0   \n",
       "1                        0.0                         0.0   \n",
       "2                        0.0                         0.0   \n",
       "3                        0.0                         0.0   \n",
       "4                        0.0                         0.0   \n",
       "\n",
       "   OPTIONS_request_percentage  \n",
       "0                         0.0  \n",
       "1                         0.0  \n",
       "2                         0.0  \n",
       "3                         0.0  \n",
       "4                         0.0  \n",
       "\n",
       "[5 rows x 41 columns]"
      ]
     },
     "execution_count": 42,
     "metadata": {},
     "output_type": "execute_result"
    }
   ],
   "source": [
    "X.head()"
   ]
  },
  {
   "cell_type": "code",
   "execution_count": 43,
   "metadata": {},
   "outputs": [],
   "source": [
    "y = data[['Phishing']]"
   ]
  },
  {
   "cell_type": "code",
   "execution_count": 44,
   "metadata": {},
   "outputs": [
    {
     "data": {
      "text/html": [
       "<div>\n",
       "<style scoped>\n",
       "    .dataframe tbody tr th:only-of-type {\n",
       "        vertical-align: middle;\n",
       "    }\n",
       "\n",
       "    .dataframe tbody tr th {\n",
       "        vertical-align: top;\n",
       "    }\n",
       "\n",
       "    .dataframe thead th {\n",
       "        text-align: right;\n",
       "    }\n",
       "</style>\n",
       "<table border=\"1\" class=\"dataframe\">\n",
       "  <thead>\n",
       "    <tr style=\"text-align: right;\">\n",
       "      <th></th>\n",
       "      <th>Phishing</th>\n",
       "    </tr>\n",
       "  </thead>\n",
       "  <tbody>\n",
       "    <tr>\n",
       "      <th>0</th>\n",
       "      <td>1</td>\n",
       "    </tr>\n",
       "    <tr>\n",
       "      <th>1</th>\n",
       "      <td>1</td>\n",
       "    </tr>\n",
       "    <tr>\n",
       "      <th>2</th>\n",
       "      <td>1</td>\n",
       "    </tr>\n",
       "    <tr>\n",
       "      <th>3</th>\n",
       "      <td>1</td>\n",
       "    </tr>\n",
       "    <tr>\n",
       "      <th>4</th>\n",
       "      <td>1</td>\n",
       "    </tr>\n",
       "  </tbody>\n",
       "</table>\n",
       "</div>"
      ],
      "text/plain": [
       "   Phishing\n",
       "0         1\n",
       "1         1\n",
       "2         1\n",
       "3         1\n",
       "4         1"
      ]
     },
     "execution_count": 44,
     "metadata": {},
     "output_type": "execute_result"
    }
   ],
   "source": [
    "y.head()"
   ]
  },
  {
   "cell_type": "code",
   "execution_count": 45,
   "metadata": {},
   "outputs": [],
   "source": [
    "from sklearn.model_selection import train_test_split\n",
    "X_train, X_test, y_train, y_test = train_test_split(X, y, random_state=1)"
   ]
  },
  {
   "cell_type": "code",
   "execution_count": 46,
   "metadata": {},
   "outputs": [
    {
     "name": "stdout",
     "output_type": "stream",
     "text": [
      "(771, 41)\n",
      "(771, 1)\n",
      "(257, 41)\n",
      "(257, 1)\n"
     ]
    }
   ],
   "source": [
    "print (X_train.shape)\n",
    "print (y_train.shape)\n",
    "print (X_test.shape)\n",
    "print (y_test.shape)"
   ]
  },
  {
   "cell_type": "code",
   "execution_count": 47,
   "metadata": {},
   "outputs": [
    {
     "data": {
      "text/plain": [
       "LinearRegression(copy_X=True, fit_intercept=True, n_jobs=None, normalize=False)"
      ]
     },
     "execution_count": 47,
     "metadata": {},
     "output_type": "execute_result"
    }
   ],
   "source": [
    "from sklearn.linear_model import LinearRegression\n",
    "linreg = LinearRegression()\n",
    "linreg.fit(X_train, y_train)"
   ]
  },
  {
   "cell_type": "code",
   "execution_count": 48,
   "metadata": {},
   "outputs": [
    {
     "name": "stdout",
     "output_type": "stream",
     "text": [
      "[1.03348214]\n",
      "[[-1.77425852e-06 -1.03940088e-06 -6.33418999e-04  3.02701072e-05\n",
      "   2.57603943e-11 -6.66979351e-04  3.02674528e-03 -1.28384039e-03\n",
      "  -1.42137346e-03 -8.01530750e-06  5.02216237e-12 -2.22872935e-13\n",
      "   5.42809005e-12  1.65234668e-03 -6.58139942e-04 -4.74155437e-13\n",
      "  -5.80858427e-02  9.88098492e-15  3.51562153e-02 -1.21902488e-13\n",
      "   2.66453526e-15 -9.79099215e-03 -1.08222184e-05 -9.25479436e-04\n",
      "   8.13029282e-04  0.00000000e+00  0.00000000e+00 -3.18411356e-01\n",
      "  -1.28157020e-07  0.00000000e+00  0.00000000e+00  0.00000000e+00\n",
      "   1.34726466e-02  4.95849862e-03 -1.95621115e-01 -1.03800688e+00\n",
      "  -6.13659117e+00 -4.53797154e+00  0.00000000e+00  0.00000000e+00\n",
      "   0.00000000e+00]]\n"
     ]
    }
   ],
   "source": [
    "print (linreg.intercept_)\n",
    "print (linreg.coef_)"
   ]
  },
  {
   "cell_type": "code",
   "execution_count": 49,
   "metadata": {},
   "outputs": [
    {
     "name": "stdout",
     "output_type": "stream",
     "text": [
      "MSE: 0.10543766227440454\n",
      "RMSE: 0.3247116602070282\n"
     ]
    }
   ],
   "source": [
    "y_pred = linreg.predict(X_test)\n",
    "from sklearn import metrics\n",
    "print (\"MSE:\",metrics.mean_squared_error(y_test, y_pred))\n",
    "print (\"RMSE:\",np.sqrt(metrics.mean_squared_error(y_test, y_pred)))"
   ]
  },
  {
   "cell_type": "code",
   "execution_count": 50,
   "metadata": {},
   "outputs": [
    {
     "name": "stdout",
     "output_type": "stream",
     "text": [
      "MSE: 0.10543766227440454\n",
      "RMSE: 0.3247116602070282\n"
     ]
    }
   ],
   "source": [
    "X = data[['Country', 'server', 'asn', 'malicious', 'ads_blocked', 'totalLinks', 'urlScore' ,'secureRequests', 'securePercentage', 'IPv6Percentage', 'certificate', 'domain_age', 'contain_prefix', 'url_length', 'dot_number', 'validatity_period_time_stamp', 'is_redirect', 'iframe_number', 'mailtos_number', 'a_tag_number', 'domain_in_url', 'protocol', 'MX', 'NS', 'SOA', 'right_disable', 'hover_change_status_bar', 'indexed_by_google', 'webpage_rank', 'a_tag_url_number_percentage', 'meta_link_percentage', 'contain_popup_window', 'open_ports_number', 'referers', 'GET_request_percentage', 'POST_request_percentage', 'HEAD_request_percentage', 'PUT_request_percentage', 'DELETE_request_percentage', 'CONNECT_request_percentage', 'OPTIONS_request_percentage']]\n",
    "y = data[['Phishing']]\n",
    "X_train, X_test, y_train, y_test = train_test_split(X, y, random_state=1)\n",
    "from sklearn.linear_model import LinearRegression\n",
    "linreg = LinearRegression()\n",
    "linreg.fit(X_train, y_train)\n",
    "\n",
    "y_pred = linreg.predict(X_test)\n",
    "from sklearn import metrics\n",
    "\n",
    "print (\"MSE:\",metrics.mean_squared_error(y_test, y_pred))\n",
    "\n",
    "print (\"RMSE:\",np.sqrt(metrics.mean_squared_error(y_test, y_pred)))"
   ]
  },
  {
   "cell_type": "code",
   "execution_count": 51,
   "metadata": {},
   "outputs": [
    {
     "name": "stdout",
     "output_type": "stream",
     "text": [
      "MSE: 0.11592843637374528\n",
      "RMSE: 0.34048265208927353\n"
     ]
    }
   ],
   "source": [
    "X = data[['Country', 'server', 'asn', 'malicious', 'ads_blocked', 'totalLinks', 'urlScore' ,'secureRequests', 'securePercentage', 'IPv6Percentage', 'certificate', 'domain_age', 'contain_prefix', 'url_length', 'dot_number', 'validatity_period_time_stamp', 'is_redirect', 'iframe_number', 'mailtos_number', 'a_tag_number', 'domain_in_url', 'protocol', 'MX', 'NS', 'SOA', 'right_disable', 'hover_change_status_bar', 'indexed_by_google', 'webpage_rank', 'a_tag_url_number_percentage', 'meta_link_percentage', 'contain_popup_window', 'open_ports_number', 'referers', 'GET_request_percentage', 'POST_request_percentage', 'HEAD_request_percentage', 'PUT_request_percentage', 'DELETE_request_percentage', 'CONNECT_request_percentage', 'OPTIONS_request_percentage']]\n",
    "y = data[['Phishing']]\n",
    "\n",
    "from sklearn.model_selection import cross_val_predict\n",
    "predicted = cross_val_predict(linreg, X, y, cv=10)\n",
    "\n",
    "print (\"MSE:\",metrics.mean_squared_error(y, predicted))\n",
    "\n",
    "print (\"RMSE:\",np.sqrt(metrics.mean_squared_error(y, predicted)))"
   ]
  },
  {
   "cell_type": "code",
   "execution_count": 52,
   "metadata": {},
   "outputs": [
    {
     "data": {
      "image/png": "[encoded data removed]",
      "text/plain": [
       "<Figure size 432x288 with 1 Axes>"
      ]
     },
     "metadata": {
      "needs_background": "light"
     },
     "output_type": "display_data"
    }
   ],
   "source": [
    "fig, ax = plt.subplots()\n",
    "ax.scatter(y, predicted)\n",
    "ax.plot([y.min(), y.max()], [y.min(), y.max()], 'k--', lw=4)\n",
    "ax.set_xlabel('Measured')\n",
    "ax.set_ylabel('Predicted')\n",
    "plt.show()"
   ]
  },
  {
   "cell_type": "code",
   "execution_count": 56,
   "metadata": {},
   "outputs": [],
   "source": [
    "from sklearn.externals import joblib\n",
    "from sklearn import svm"
   ]
  },
  {
   "cell_type": "code",
   "execution_count": 57,
   "metadata": {},
   "outputs": [],
   "source": [
    "clf = svm.SVC()"
   ]
  },
  {
   "cell_type": "code",
   "execution_count": null,
   "metadata": {},
   "outputs": [],
   "source": []
  },
  {
   "cell_type": "code",
   "execution_count": 58,
   "metadata": {},
   "outputs": [
    {
     "data": {
      "text/plain": [
       "['/home/derrick/Documents/4900/clf.pkl']"
      ]
     },
     "execution_count": 58,
     "metadata": {},
     "output_type": "execute_result"
    }
   ],
   "source": [
    "\n",
    "joblib.dump(clf, '/home/derrick/Documents/4900/clf.pkl')"
   ]
  },
  {
   "cell_type": "code",
   "execution_count": null,
   "metadata": {},
   "outputs": [],
   "source": []
  }
 ],
 "metadata": {
  "kernelspec": {
   "display_name": "Python 3",
   "language": "python",
   "name": "python3"
  },
  "language_info": {
   "codemirror_mode": {
    "name": "ipython",
    "version": 3
   },
   "file_extension": ".py",
   "mimetype": "text/x-python",
   "name": "python",
   "nbconvert_exporter": "python",
   "pygments_lexer": "ipython3",
   "version": "3.6.8"
  }
 },
 "nbformat": 4,
 "nbformat_minor": 4
}
